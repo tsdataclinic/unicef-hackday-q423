{
 "cells": [
  {
   "cell_type": "markdown",
   "metadata": {
    "tags": []
   },
   "source": [
    "# Explore ACLED data\n",
    "\n",
    "A notebook for sharing exploration code for the ACLED data"
   ]
  },
  {
   "cell_type": "code",
   "execution_count": null,
   "metadata": {
    "tags": []
   },
   "outputs": [],
   "source": [
    "import pandas as pd\n",
    "from datetime import date\n",
    "import matplotlib.pyplot as plt\n",
    "import seaborn as sns\n",
    "from functools import partial, lru_cache\n",
    "import sys\n",
    "import os \n",
    "module_path = os.path.abspath(os.path.join('../src'))\n",
    "os.chdir(module_path)\n",
    "sys.path.insert(0, module_path)\n",
    "from data.utils import *"
   ]
  },
  {
   "cell_type": "markdown",
   "metadata": {
    "tags": []
   },
   "source": [
    "## Load conflict data and cache"
   ]
  },
  {
   "cell_type": "code",
   "execution_count": null,
   "metadata": {
    "tags": []
   },
   "outputs": [],
   "source": [
    "### Load conflict data from relevant directory\n",
    "\n",
    "@lru_cache()\n",
    "def load_conflicts_data(countries=None):\n",
    "    conflicts = load_data(BUCKET, \"CONFLICT/ACLED_data_Africa_Ucodes.csv\").reset_index()\n",
    "    if countries is not None:\n",
    "        conflicts = conflicts.loc[df[\"adm0_name\"].isin(countries)].copy()\n",
    "    return conflicts"
   ]
  },
  {
   "cell_type": "code",
   "execution_count": null,
   "metadata": {
    "tags": []
   },
   "outputs": [],
   "source": [
    "load_conflicts_data().columns"
   ]
  },
  {
   "cell_type": "markdown",
   "metadata": {
    "execution": {
     "iopub.execute_input": "2024-03-05T00:37:04.563399Z",
     "iopub.status.busy": "2024-03-05T00:37:04.563139Z",
     "iopub.status.idle": "2024-03-05T00:37:04.565977Z",
     "shell.execute_reply": "2024-03-05T00:37:04.565399Z",
     "shell.execute_reply.started": "2024-03-05T00:37:04.563381Z"
    },
    "tags": []
   },
   "source": [
    "### Just to understand what the data looks like ..."
   ]
  },
  {
   "cell_type": "code",
   "execution_count": null,
   "metadata": {
    "tags": []
   },
   "outputs": [],
   "source": [
    "display(high_fatalities := load_conflicts_data().query('fatalities >1000'))\n",
    "print('\\n'.join(\n",
    "    high_fatalities[['notes', 'event_date', 'country']]\n",
    "    .apply(lambda r: r['event_date'] + ' ' + r['country'] + ' ' + r['notes'], axis=1)\n",
    "))"
   ]
  },
  {
   "cell_type": "markdown",
   "metadata": {
    "tags": []
   },
   "source": [
    "## Visualize the trend of conflicts by various groupings"
   ]
  },
  {
   "cell_type": "code",
   "execution_count": null,
   "metadata": {
    "tags": []
   },
   "outputs": [],
   "source": [
    "def visualize_conflict_trend(*, resample='D', weight=None, group_keys=[], begin=None):\n",
    "    ''' Plot the trend of conflicts by the `group_keys`. By default the trend\n",
    "    is shown for the `count` of conflicts. If `weight` is specified, then the\n",
    "    trend is shown for `count * weight`. If more than one group key is specified,\n",
    "    subplots are created for the last key. Return DataFrame plotted.\n",
    "    '''\n",
    "    conflicts = load_conflicts_data()\n",
    "    assert weight == None or weight in conflicts.columns, \"`weight` should be one of the columns\"\n",
    "    df = conflicts.copy()\n",
    "    df['date'] = pd.to_datetime(df['event_date'], format='%d %B %Y')\n",
    "    if begin is not None:\n",
    "        df = df.loc[df.date.dt.date >= begin]\n",
    "    \n",
    "    if weight:\n",
    "        metric = df.groupby(['date'] + group_keys)[weight].sum()\n",
    "    else:\n",
    "        metric = df.groupby(['date'] + group_keys).count().max(axis=1)\n",
    "        metric.name = 'count'\n",
    "    \n",
    "    metric = metric.groupby(group_keys).resample(resample, level='date').sum().reset_index()\n",
    "    \n",
    "    plot = sns.relplot\n",
    "    if len(group_keys) > 1:\n",
    "        plot = partial(plot, col=group_keys[-1], col_wrap=8)\n",
    "        \n",
    "    plot(data=metric,\n",
    "        kind='line',\n",
    "        x='date',\n",
    "        y=weight if weight is not None else 'count',\n",
    "        # TODO: I would like to show the full range of the conflict count or fatalities\n",
    "        # instead of the default confidence interval 95%. This should be achievable with\n",
    "        # the `errorbar` param, but our version of seaborn doesn't seem to have it yet.\n",
    "    )\n",
    "    \n",
    "    return metric"
   ]
  },
  {
   "cell_type": "markdown",
   "metadata": {
    "tags": []
   },
   "source": [
    "### Conflicts and fatalities by country"
   ]
  },
  {
   "cell_type": "code",
   "execution_count": null,
   "metadata": {
    "tags": []
   },
   "outputs": [],
   "source": [
    "count_trend_by_country = visualize_conflict_trend(resample='Y', group_keys=['country'])"
   ]
  },
  {
   "cell_type": "code",
   "execution_count": null,
   "metadata": {
    "tags": []
   },
   "outputs": [],
   "source": [
    "fatalities_trend_by_country = visualize_conflict_trend(resample='Y', group_keys=['country'], weight='fatalities')"
   ]
  },
  {
   "cell_type": "markdown",
   "metadata": {},
   "source": [
    "#### There was an extraodinary event just before 2000. Let's leave that to another study and focus on the trend from 2000 forward."
   ]
  },
  {
   "cell_type": "code",
   "execution_count": null,
   "metadata": {},
   "outputs": [],
   "source": [
    "fatalities_trend_by_country = visualize_conflict_trend(resample='Y', group_keys=['country'], weight='fatalities', begin=date(2000, 1, 1))"
   ]
  },
  {
   "cell_type": "markdown",
   "metadata": {
    "tags": []
   },
   "source": [
    "### Conflicts and fatalities by country and event_type"
   ]
  },
  {
   "cell_type": "code",
   "execution_count": null,
   "metadata": {
    "tags": []
   },
   "outputs": [],
   "source": [
    "count_trend_by_country_and_event_type = visualize_conflict_trend(resample='Y', group_keys=['country', 'event_type'], begin=date(2000, 1, 1))"
   ]
  },
  {
   "cell_type": "code",
   "execution_count": null,
   "metadata": {
    "tags": []
   },
   "outputs": [],
   "source": [
    "fatalities_trend_by_country_and_event_type = visualize_conflict_trend(resample='Y', group_keys=['country', 'event_type'], weight='fatalities', begin=date(2000, 1, 1))"
   ]
  },
  {
   "cell_type": "markdown",
   "metadata": {},
   "source": [
    "#### Which event type account for the most fatalities?"
   ]
  },
  {
   "cell_type": "code",
   "execution_count": null,
   "metadata": {
    "tags": []
   },
   "outputs": [],
   "source": [
    "fatalities_index_by_event_type = fatalities_trend_by_country_and_event_type.set_index(['event_type', 'country', 'date'])\n",
    "fatalities_fraction_by_event_type = (\n",
    "    fatalities_index_by_event_type\n",
    "    .groupby(level=['event_type', 'country', 'date'])\n",
    "    .sum() \n",
    "    / fatalities_index_by_event_type\n",
    "    .groupby(level=['country', 'date'])\n",
    "    .sum()\n",
    ")\n",
    "sns.relplot(\n",
    "    data=fatalities_fraction_by_event_type.rename(columns={'fatalities': 'proportion of fatalities'}),\n",
    "    kind='line',\n",
    "    x='date',\n",
    "    y='proportion of fatalities',\n",
    "    hue='event_type',\n",
    "    style='event_type'\n",
    ")"
   ]
  },
  {
   "cell_type": "markdown",
   "metadata": {
    "tags": []
   },
   "source": [
    "### Conflicts and fatalities by country and reporting source"
   ]
  },
  {
   "cell_type": "code",
   "execution_count": null,
   "metadata": {
    "tags": []
   },
   "outputs": [],
   "source": [
    "count_trend_by_country_and_source = visualize_conflict_trend(resample='Y', group_keys=['country', 'source_scale'], begin=date(2000, 1, 1))"
   ]
  },
  {
   "cell_type": "code",
   "execution_count": null,
   "metadata": {
    "tags": []
   },
   "outputs": [],
   "source": [
    "fatalities_trend_by_country_and_source = visualize_conflict_trend(resample='Y', group_keys=['country', 'source_scale'], weight='fatalities', begin=date(2000, 1, 1))"
   ]
  },
  {
   "cell_type": "markdown",
   "metadata": {},
   "source": [
    "#### Fatalities per event of different sources"
   ]
  },
  {
   "cell_type": "code",
   "execution_count": null,
   "metadata": {
    "tags": []
   },
   "outputs": [],
   "source": [
    "fatalities_rate = (\n",
    "    fatalities_trend_by_country_and_source\n",
    "    .set_index(['country', 'source_scale', 'date'])\n",
    "    ['fatalities']\n",
    "    / count_trend_by_country_and_source\n",
    "    .set_index(['country', 'source_scale', 'date'])\n",
    "    ['count']\n",
    ").reset_index().rename(columns={0: 'fatality_rate'})"
   ]
  },
  {
   "cell_type": "code",
   "execution_count": null,
   "metadata": {
    "tags": []
   },
   "outputs": [],
   "source": [
    "fatalities_rate_median = (\n",
    "    fatalities_rate\n",
    "    .groupby('source_scale')[['fatality_rate']]\n",
    "    .median()\n",
    "    .sort_values('fatality_rate', ascending=False)\n",
    ")\n",
    "sns.barplot(data=fatalities_rate_median.reset_index(), y='source_scale', x='fatality_rate')"
   ]
  }
 ],
 "metadata": {
  "kernelspec": {
   "display_name": "res_latest (Py res_latest (Py3.10))",
   "language": "python",
   "name": "res_latest_python3"
  },
  "language_info": {
   "codemirror_mode": {
    "name": "ipython",
    "version": 3
   },
   "file_extension": ".py",
   "mimetype": "text/x-python",
   "name": "python",
   "nbconvert_exporter": "python",
   "pygments_lexer": "ipython3",
   "version": "3.10.7"
  }
 },
 "nbformat": 4,
 "nbformat_minor": 4
}
